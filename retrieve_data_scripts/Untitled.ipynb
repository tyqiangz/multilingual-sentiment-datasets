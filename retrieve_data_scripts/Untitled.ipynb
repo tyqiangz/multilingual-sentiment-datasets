{
 "cells": [
  {
   "cell_type": "code",
   "execution_count": 2,
   "metadata": {},
   "outputs": [],
   "source": [
    "import pandas as pd"
   ]
  },
  {
   "cell_type": "code",
   "execution_count": 3,
   "metadata": {
    "scrolled": true
   },
   "outputs": [
    {
     "name": "stdout",
     "output_type": "stream",
     "text": [
      "malay train\n",
      "malay valid\n",
      "malay test\n",
      "hindi train\n",
      "hindi valid\n",
      "hindi test\n",
      "japanese train\n",
      "japanese valid\n",
      "japanese test\n",
      "german train\n",
      "german valid\n",
      "german test\n",
      "italian train\n",
      "italian valid\n",
      "italian test\n",
      "english train\n",
      "english valid\n",
      "english test\n",
      "portuguese train\n",
      "portuguese valid\n",
      "portuguese test\n",
      "french train\n",
      "french valid\n",
      "french test\n",
      "spanish train\n",
      "spanish valid\n",
      "spanish test\n",
      "chinese train\n",
      "chinese valid\n",
      "chinese test\n",
      "indonesian train\n",
      "indonesian valid\n",
      "indonesian test\n",
      "arabic train\n",
      "arabic valid\n",
      "arabic test\n"
     ]
    }
   ],
   "source": [
    "LANGUAGES = [\n",
    "    'malay', 'hindi', 'japanese', 'german',\n",
    "    'italian', 'english', 'portuguese', 'french',\n",
    "    'spanish', 'chinese', 'indonesian', 'arabic'\n",
    "]\n",
    "\n",
    "df_list = {\"train\": [], \"valid\": [], \"test\": []}\n",
    "\n",
    "for lang in LANGUAGES:\n",
    "    for split in [\"train\", \"valid\", \"test\"]:\n",
    "        print(lang, split)\n",
    "        filepath = f\"../data/{lang}/{split}.tsv\"\n",
    "        df = pd.read_csv(filepath, sep='\\t')\n",
    "        df[\"language\"] = lang\n",
    "        df_list[split].append(df)\n",
    "\n",
    "train_df = pd.concat(df_list[\"train\"])\n",
    "valid_df = pd.concat(df_list[\"valid\"])\n",
    "test_df = pd.concat(df_list[\"test\"])"
   ]
  },
  {
   "cell_type": "code",
   "execution_count": 34,
   "metadata": {},
   "outputs": [],
   "source": [
    "lang = \"all\"\n",
    "\n",
    "train_df = pd.read_csv(f\"../data/{lang}/train.tsv\", sep=\"\\t\")\n",
    "valid_df = pd.read_csv(f\"../data/{lang}/valid.tsv\", sep=\"\\t\")\n",
    "test_df = pd.read_csv(f\"../data/{lang}/test.tsv\", sep=\"\\t\")"
   ]
  },
  {
   "cell_type": "code",
   "execution_count": 35,
   "metadata": {},
   "outputs": [
    {
     "name": "stdout",
     "output_type": "stream",
     "text": [
      "0\n",
      "0\n",
      "0\n"
     ]
    }
   ],
   "source": [
    "print(pd.isna(train_df[\"language\"]).sum())\n",
    "print(pd.isna(valid_df[\"language\"]).sum())\n",
    "print(pd.isna(test_df[\"language\"]).sum())"
   ]
  },
  {
   "cell_type": "code",
   "execution_count": 27,
   "metadata": {},
   "outputs": [
    {
     "data": {
      "text/plain": [
       "'meski masa kampanye sudah selesai , bukan berati habis pula upaya mengerek tingkat kedipilihan elektabilitas .  neutral indonesian'"
      ]
     },
     "execution_count": 27,
     "metadata": {},
     "output_type": "execute_result"
    }
   ],
   "source": [
    "valid_df.loc[9273, \"text\"]"
   ]
  },
  {
   "cell_type": "code",
   "execution_count": 29,
   "metadata": {},
   "outputs": [
    {
     "data": {
      "text/plain": [
       "array(['positive', 'negative', 'neutral', nan], dtype=object)"
      ]
     },
     "execution_count": 29,
     "metadata": {},
     "output_type": "execute_result"
    }
   ],
   "source": [
    "valid_df.label.unique()"
   ]
  },
  {
   "cell_type": "code",
   "execution_count": 23,
   "metadata": {},
   "outputs": [
    {
     "name": "stdout",
     "output_type": "stream",
     "text": [
      "9273 all valid\n",
      "['meski masa kampanye sudah selesai , bukan berati habis pula upaya mengerek tingkat kedipilihan elektabilitas .  neutral', '', 'indonesian']\n",
      "[]  indonesian\n"
     ]
    }
   ],
   "source": [
    "import csv\n",
    "\n",
    "LANGUAGES = [\n",
    "    \"all\"\n",
    "]\n",
    "\n",
    "def f():\n",
    "    for lang in LANGUAGES:\n",
    "        for split in [\"train\", \"valid\", \"test\"]:\n",
    "            filepath = f\"../data/{lang}/{split}.tsv\"\n",
    "\n",
    "            filename = f\"{split}.tsv\"\n",
    "\n",
    "            with open(filepath, encoding=\"utf-8\") as f:\n",
    "                reader = csv.reader(f, delimiter=\"\\t\", quoting=csv.QUOTE_NONE)\n",
    "\n",
    "                next(reader, None)  # skip the headers\n",
    "\n",
    "                for id_, row in enumerate(reader):\n",
    "                    row = '\\t'.join(row).rstrip().split(\"\\t\")\n",
    "                    text = row[:-3]\n",
    "                    label = row[-2]\n",
    "                    language = row[-1]\n",
    "\n",
    "                    if label not in (\"positive\", \"negative\", \"neutral\"):\n",
    "                        print(id_, lang, split)\n",
    "                        print(row)\n",
    "                        print(text, label, language)\n",
    "                        return\n",
    "f()"
   ]
  },
  {
   "cell_type": "code",
   "execution_count": null,
   "metadata": {},
   "outputs": [],
   "source": []
  }
 ],
 "metadata": {
  "kernelspec": {
   "display_name": "Python 3",
   "language": "python",
   "name": "python3"
  },
  "language_info": {
   "codemirror_mode": {
    "name": "ipython",
    "version": 3
   },
   "file_extension": ".py",
   "mimetype": "text/x-python",
   "name": "python",
   "nbconvert_exporter": "python",
   "pygments_lexer": "ipython3",
   "version": "3.8.5"
  }
 },
 "nbformat": 4,
 "nbformat_minor": 4
}
