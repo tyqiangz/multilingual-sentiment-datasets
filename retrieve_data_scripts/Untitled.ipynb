{
 "cells": [
  {
   "cell_type": "code",
   "execution_count": 1,
   "metadata": {},
   "outputs": [],
   "source": [
    "import pandas as pd"
   ]
  },
  {
   "cell_type": "code",
   "execution_count": 3,
   "metadata": {
    "scrolled": true
   },
   "outputs": [
    {
     "name": "stdout",
     "output_type": "stream",
     "text": [
      "malay train\n",
      "malay valid\n",
      "malay test\n",
      "hindi train\n",
      "hindi valid\n",
      "hindi test\n",
      "japanese train\n",
      "japanese valid\n",
      "japanese test\n",
      "german train\n",
      "german valid\n",
      "german test\n",
      "italian train\n",
      "italian valid\n",
      "italian test\n",
      "english train\n",
      "english valid\n",
      "english test\n",
      "portuguese train\n",
      "portuguese valid\n",
      "portuguese test\n",
      "french train\n",
      "french valid\n",
      "french test\n",
      "spanish train\n",
      "spanish valid\n",
      "spanish test\n",
      "chinese train\n",
      "chinese valid\n",
      "chinese test\n",
      "indonesian train\n",
      "indonesian valid\n",
      "indonesian test\n",
      "arabic train\n",
      "arabic valid\n",
      "arabic test\n"
     ]
    }
   ],
   "source": [
    "LANGUAGES = [\n",
    "    'malay', 'hindi', 'japanese', 'german',\n",
    "    'italian', 'english', 'portuguese', 'french',\n",
    "    'spanish', 'chinese', 'indonesian', 'arabic'\n",
    "]\n",
    "\n",
    "df_list = {\"train\": [], \"valid\": [], \"test\": []}\n",
    "\n",
    "for lang in LANGUAGES:\n",
    "    for split in [\"train\", \"valid\", \"test\"]:\n",
    "        print(lang, split)\n",
    "        filepath = f\"../data/{lang}/{split}.tsv\"\n",
    "        df = pd.read_csv(filepath, sep='\\t')\n",
    "        df[\"language\"] = lang\n",
    "        df_list[split].append(df)\n",
    "\n",
    "train_df = pd.concat(df_list[\"train\"])\n",
    "valid_df = pd.concat(df_list[\"valid\"])\n",
    "test_df = pd.concat(df_list[\"test\"])"
   ]
  },
  {
   "cell_type": "code",
   "execution_count": 3,
   "metadata": {},
   "outputs": [],
   "source": [
    "lang = \"indonesian\"\n",
    "\n",
    "train_df = pd.read_csv(f\"../data/{lang}/train.tsv\", sep=\"\\t\")\n",
    "valid_df = pd.read_csv(f\"../data/{lang}/valid.tsv\", sep=\"\\t\")\n",
    "test_df = pd.read_csv(f\"../data/{lang}/test.tsv\", sep=\"\\t\")"
   ]
  },
  {
   "cell_type": "code",
   "execution_count": 4,
   "metadata": {},
   "outputs": [
    {
     "name": "stdout",
     "output_type": "stream",
     "text": [
      "0\n",
      "0\n",
      "0\n"
     ]
    }
   ],
   "source": [
    "print(pd.isna(train_df[\"label\"]).sum())\n",
    "print(pd.isna(valid_df[\"label\"]).sum())\n",
    "print(pd.isna(test_df[\"label\"]).sum())"
   ]
  },
  {
   "cell_type": "code",
   "execution_count": 27,
   "metadata": {},
   "outputs": [
    {
     "data": {
      "text/plain": [
       "'meski masa kampanye sudah selesai , bukan berati habis pula upaya mengerek tingkat kedipilihan elektabilitas .  neutral indonesian'"
      ]
     },
     "execution_count": 27,
     "metadata": {},
     "output_type": "execute_result"
    }
   ],
   "source": [
    "valid_df.loc[9273, \"text\"]"
   ]
  },
  {
   "cell_type": "code",
   "execution_count": 29,
   "metadata": {},
   "outputs": [
    {
     "data": {
      "text/plain": [
       "array(['positive', 'negative', 'neutral', nan], dtype=object)"
      ]
     },
     "execution_count": 29,
     "metadata": {},
     "output_type": "execute_result"
    }
   ],
   "source": [
    "valid_df.label.unique()"
   ]
  },
  {
   "cell_type": "code",
   "execution_count": 10,
   "metadata": {},
   "outputs": [],
   "source": [
    "import csv\n",
    "\n",
    "LANGUAGES = [\n",
    "    \"indonesian\"\n",
    "]\n",
    "\n",
    "def f():\n",
    "    for lang in LANGUAGES:\n",
    "        for split in [\"train\", \"valid\", \"test\"]:\n",
    "            filepath = f\"../data/{lang}/{split}.tsv\"\n",
    "\n",
    "            filename = f\"{split}.tsv\"\n",
    "\n",
    "            with open(filepath, encoding=\"utf-8\") as f:\n",
    "                reader = csv.reader(f, delimiter=\"\\t\", quoting=csv.QUOTE_NONE)\n",
    "\n",
    "                next(reader, None)  # skip the headers\n",
    "\n",
    "                for id_, row in enumerate(reader):\n",
    "                    text = '\\t'.join(row[:-1])\n",
    "                    label = row[-1]\n",
    "\n",
    "                    if label not in (\"positive\", \"negative\", \"neutral\"):\n",
    "                        print(id_, split)\n",
    "                        print(row)\n",
    "                        print(text, label)\n",
    "                        return\n",
    "f()"
   ]
  },
  {
   "cell_type": "code",
   "execution_count": 20,
   "metadata": {},
   "outputs": [
    {
     "name": "stdout",
     "output_type": "stream",
     "text": [
      "0 text     kemarin gue datang ke tempat makan baru yang a...\n",
      "label                                             negative\n",
      "Name: 0, dtype: object\n"
     ]
    }
   ],
   "source": [
    "import pandas as pd\n",
    "\n",
    "df = pd.read_csv(\"../data/indonesian/test.tsv\", sep=\"\\t\")\n",
    "\n",
    "for index, row in df.iterrows():\n",
    "    print(index, row)\n",
    "    \n",
    "    if i > 5:\n",
    "        break"
   ]
  },
  {
   "cell_type": "code",
   "execution_count": 21,
   "metadata": {},
   "outputs": [
    {
     "data": {
      "text/plain": [
       "text     kemarin gue datang ke tempat makan baru yang a...\n",
       "label                                             negative\n",
       "Name: 0, dtype: object"
      ]
     },
     "execution_count": 21,
     "metadata": {},
     "output_type": "execute_result"
    }
   ],
   "source": [
    "with open(filepath, encoding=\"utf-8\") as f:\n",
    "            # reader = csv.reader(f, delimiter=\"\\t\", quoting=csv.QUOTE_NONE)\n",
    "            df = pd.read_csv(filepath, sep=\"\\t\")\n",
    "\n",
    "            # next(reader, None)  # skip the headers\n",
    "\n",
    "            for id_, row in df.iterrows():\n",
    "                if self.config.name != \"all\":\n",
    "                    # in case there are more than 1 tab character in the text, \n",
    "                    # they'll be split by `csv.reader`\n",
    "                    text = row[\"text\"]\n",
    "                    label = row[\"label\"]\n",
    "                    print(label)\n",
    "\n",
    "                    yield id_, {\"text\": text, \"label\": label}"
   ]
  },
  {
   "cell_type": "code",
   "execution_count": 16,
   "metadata": {},
   "outputs": [
    {
     "data": {
      "text/html": [
       "<div>\n",
       "<style scoped>\n",
       "    .dataframe tbody tr th:only-of-type {\n",
       "        vertical-align: middle;\n",
       "    }\n",
       "\n",
       "    .dataframe tbody tr th {\n",
       "        vertical-align: top;\n",
       "    }\n",
       "\n",
       "    .dataframe thead th {\n",
       "        text-align: right;\n",
       "    }\n",
       "</style>\n",
       "<table border=\"1\" class=\"dataframe\">\n",
       "  <thead>\n",
       "    <tr style=\"text-align: right;\">\n",
       "      <th></th>\n",
       "      <th>text</th>\n",
       "      <th>label</th>\n",
       "    </tr>\n",
       "  </thead>\n",
       "  <tbody>\n",
       "    <tr>\n",
       "      <th>0</th>\n",
       "      <td>kemarin gue datang ke tempat makan baru yang a...</td>\n",
       "      <td>negative</td>\n",
       "    </tr>\n",
       "    <tr>\n",
       "      <th>1</th>\n",
       "      <td>kayak nya sih gue tidak akan mau balik lagi ke...</td>\n",
       "      <td>negative</td>\n",
       "    </tr>\n",
       "    <tr>\n",
       "      <th>2</th>\n",
       "      <td>kalau dipikir-pikir , sebenarnya tidak ada yan...</td>\n",
       "      <td>negative</td>\n",
       "    </tr>\n",
       "    <tr>\n",
       "      <th>3</th>\n",
       "      <td>ini pertama kalinya gua ke bank buat ngurusin ...</td>\n",
       "      <td>negative</td>\n",
       "    </tr>\n",
       "    <tr>\n",
       "      <th>4</th>\n",
       "      <td>waktu sampai dengan gue pernah disuruh ibu lat...</td>\n",
       "      <td>negative</td>\n",
       "    </tr>\n",
       "    <tr>\n",
       "      <th>...</th>\n",
       "      <td>...</td>\n",
       "      <td>...</td>\n",
       "    </tr>\n",
       "    <tr>\n",
       "      <th>495</th>\n",
       "      <td>kata nya tidur yang baik itu minimal enam jam ...</td>\n",
       "      <td>neutral</td>\n",
       "    </tr>\n",
       "    <tr>\n",
       "      <th>496</th>\n",
       "      <td>indonesia itu ada di benua asia .</td>\n",
       "      <td>neutral</td>\n",
       "    </tr>\n",
       "    <tr>\n",
       "      <th>497</th>\n",
       "      <td>salah satu kegemaran anak remaja indonesia sek...</td>\n",
       "      <td>neutral</td>\n",
       "    </tr>\n",
       "    <tr>\n",
       "      <th>498</th>\n",
       "      <td>melihat warna hijau bisa bikin mata jadi lebih...</td>\n",
       "      <td>positive</td>\n",
       "    </tr>\n",
       "    <tr>\n",
       "      <th>499</th>\n",
       "      <td>bondan winarno yang suka bilang maknyus sekara...</td>\n",
       "      <td>neutral</td>\n",
       "    </tr>\n",
       "  </tbody>\n",
       "</table>\n",
       "<p>500 rows × 2 columns</p>\n",
       "</div>"
      ],
      "text/plain": [
       "                                                  text     label\n",
       "0    kemarin gue datang ke tempat makan baru yang a...  negative\n",
       "1    kayak nya sih gue tidak akan mau balik lagi ke...  negative\n",
       "2    kalau dipikir-pikir , sebenarnya tidak ada yan...  negative\n",
       "3    ini pertama kalinya gua ke bank buat ngurusin ...  negative\n",
       "4    waktu sampai dengan gue pernah disuruh ibu lat...  negative\n",
       "..                                                 ...       ...\n",
       "495  kata nya tidur yang baik itu minimal enam jam ...   neutral\n",
       "496                  indonesia itu ada di benua asia .   neutral\n",
       "497  salah satu kegemaran anak remaja indonesia sek...   neutral\n",
       "498  melihat warna hijau bisa bikin mata jadi lebih...  positive\n",
       "499  bondan winarno yang suka bilang maknyus sekara...   neutral\n",
       "\n",
       "[500 rows x 2 columns]"
      ]
     },
     "execution_count": 16,
     "metadata": {},
     "output_type": "execute_result"
    }
   ],
   "source": [
    "LANGUAGES = ['malay', 'hindi', 'japanese', 'german',\n",
    "             'italian', 'english', 'portuguese', 'french',\n",
    "             'spanish', 'chinese', 'indonesian', 'arabic'\n",
    "             ]\n",
    "\n",
    "for lang in"
   ]
  },
  {
   "cell_type": "code",
   "execution_count": 30,
   "metadata": {},
   "outputs": [
    {
     "data": {
      "text/plain": [
       "array(['positive', 'neutral', 'negative'], dtype=object)"
      ]
     },
     "execution_count": 30,
     "metadata": {},
     "output_type": "execute_result"
    }
   ],
   "source": [
    "df = pd.read_csv(\"../data/indonesian/train.tsv\", sep=\"\\t\")\n",
    "df[\"label\"].unique()"
   ]
  }
 ],
 "metadata": {
  "kernelspec": {
   "display_name": "Python 3",
   "language": "python",
   "name": "python3"
  },
  "language_info": {
   "codemirror_mode": {
    "name": "ipython",
    "version": 3
   },
   "file_extension": ".py",
   "mimetype": "text/x-python",
   "name": "python",
   "nbconvert_exporter": "python",
   "pygments_lexer": "ipython3",
   "version": "3.8.5"
  }
 },
 "nbformat": 4,
 "nbformat_minor": 4
}
