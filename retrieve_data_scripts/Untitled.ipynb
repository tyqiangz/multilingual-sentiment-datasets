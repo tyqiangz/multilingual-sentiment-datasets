{
 "cells": [
  {
   "cell_type": "code",
   "execution_count": 1,
   "metadata": {},
   "outputs": [],
   "source": [
    "import pandas as pd"
   ]
  },
  {
   "cell_type": "code",
   "execution_count": 3,
   "metadata": {
    "scrolled": true
   },
   "outputs": [
    {
     "name": "stdout",
     "output_type": "stream",
     "text": [
      "malay train\n",
      "malay valid\n",
      "malay test\n",
      "hindi train\n",
      "hindi valid\n",
      "hindi test\n",
      "japanese train\n",
      "japanese valid\n",
      "japanese test\n",
      "german train\n",
      "german valid\n",
      "german test\n",
      "italian train\n",
      "italian valid\n",
      "italian test\n",
      "english train\n",
      "english valid\n",
      "english test\n",
      "portuguese train\n",
      "portuguese valid\n",
      "portuguese test\n",
      "french train\n",
      "french valid\n",
      "french test\n",
      "spanish train\n",
      "spanish valid\n",
      "spanish test\n",
      "chinese train\n",
      "chinese valid\n",
      "chinese test\n",
      "indonesian train\n",
      "indonesian valid\n",
      "indonesian test\n",
      "arabic train\n",
      "arabic valid\n",
      "arabic test\n"
     ]
    }
   ],
   "source": [
    "LANGUAGES = [\n",
    "    'malay', 'hindi', 'japanese', 'german',\n",
    "    'italian', 'english', 'portuguese', 'french',\n",
    "    'spanish', 'chinese', 'indonesian', 'arabic'\n",
    "]\n",
    "\n",
    "df_list = {\"train\": [], \"valid\": [], \"test\": []}\n",
    "\n",
    "for lang in LANGUAGES:\n",
    "    for split in [\"train\", \"valid\", \"test\"]:\n",
    "        print(lang, split)\n",
    "        filepath = f\"../data/{lang}/{split}.tsv\"\n",
    "        df = pd.read_csv(filepath, sep='\\t')\n",
    "        df[\"language\"] = lang\n",
    "        df_list[split].append(df)\n",
    "\n",
    "train_df = pd.concat(df_list[\"train\"])\n",
    "valid_df = pd.concat(df_list[\"valid\"])\n",
    "test_df = pd.concat(df_list[\"test\"])"
   ]
  },
  {
   "cell_type": "code",
   "execution_count": 3,
   "metadata": {},
   "outputs": [],
   "source": [
    "lang = \"indonesian\"\n",
    "\n",
    "train_df = pd.read_csv(f\"../data/{lang}/train.tsv\", sep=\"\\t\")\n",
    "valid_df = pd.read_csv(f\"../data/{lang}/valid.tsv\", sep=\"\\t\")\n",
    "test_df = pd.read_csv(f\"../data/{lang}/test.tsv\", sep=\"\\t\")"
   ]
  },
  {
   "cell_type": "code",
   "execution_count": 4,
   "metadata": {},
   "outputs": [
    {
     "name": "stdout",
     "output_type": "stream",
     "text": [
      "0\n",
      "0\n",
      "0\n"
     ]
    }
   ],
   "source": [
    "print(pd.isna(train_df[\"label\"]).sum())\n",
    "print(pd.isna(valid_df[\"label\"]).sum())\n",
    "print(pd.isna(test_df[\"label\"]).sum())"
   ]
  },
  {
   "cell_type": "code",
   "execution_count": 27,
   "metadata": {},
   "outputs": [
    {
     "data": {
      "text/plain": [
       "'meski masa kampanye sudah selesai , bukan berati habis pula upaya mengerek tingkat kedipilihan elektabilitas .  neutral indonesian'"
      ]
     },
     "execution_count": 27,
     "metadata": {},
     "output_type": "execute_result"
    }
   ],
   "source": [
    "valid_df.loc[9273, \"text\"]"
   ]
  },
  {
   "cell_type": "code",
   "execution_count": 29,
   "metadata": {},
   "outputs": [
    {
     "data": {
      "text/plain": [
       "array(['positive', 'negative', 'neutral', nan], dtype=object)"
      ]
     },
     "execution_count": 29,
     "metadata": {},
     "output_type": "execute_result"
    }
   ],
   "source": [
    "valid_df.label.unique()"
   ]
  },
  {
   "cell_type": "code",
   "execution_count": 10,
   "metadata": {},
   "outputs": [],
   "source": [
    "import csv\n",
    "\n",
    "LANGUAGES = [\n",
    "    \"indonesian\"\n",
    "]\n",
    "\n",
    "def f():\n",
    "    for lang in LANGUAGES:\n",
    "        for split in [\"train\", \"valid\", \"test\"]:\n",
    "            filepath = f\"../data/{lang}/{split}.tsv\"\n",
    "\n",
    "            filename = f\"{split}.tsv\"\n",
    "\n",
    "            with open(filepath, encoding=\"utf-8\") as f:\n",
    "                reader = csv.reader(f, delimiter=\"\\t\", quoting=csv.QUOTE_NONE)\n",
    "\n",
    "                next(reader, None)  # skip the headers\n",
    "\n",
    "                for id_, row in enumerate(reader):\n",
    "                    text = '\\t'.join(row[:-1])\n",
    "                    label = row[-1]\n",
    "\n",
    "                    if label not in (\"positive\", \"negative\", \"neutral\"):\n",
    "                        print(id_, split)\n",
    "                        print(row)\n",
    "                        print(text, label)\n",
    "                        return\n",
    "f()"
   ]
  },
  {
   "cell_type": "code",
   "execution_count": 20,
   "metadata": {},
   "outputs": [
    {
     "name": "stdout",
     "output_type": "stream",
     "text": [
      "0 text     kemarin gue datang ke tempat makan baru yang a...\n",
      "label                                             negative\n",
      "Name: 0, dtype: object\n"
     ]
    }
   ],
   "source": [
    "import pandas as pd\n",
    "\n",
    "df = pd.read_csv(\"../data/indonesian/test.tsv\", sep=\"\\t\")\n",
    "\n",
    "for index, row in df.iterrows():\n",
    "    print(index, row)\n",
    "    \n",
    "    if i > 5:\n",
    "        break"
   ]
  },
  {
   "cell_type": "code",
   "execution_count": 21,
   "metadata": {},
   "outputs": [
    {
     "data": {
      "text/plain": [
       "text     kemarin gue datang ke tempat makan baru yang a...\n",
       "label                                             negative\n",
       "Name: 0, dtype: object"
      ]
     },
     "execution_count": 21,
     "metadata": {},
     "output_type": "execute_result"
    }
   ],
   "source": [
    "with open(filepath, encoding=\"utf-8\") as f:\n",
    "            # reader = csv.reader(f, delimiter=\"\\t\", quoting=csv.QUOTE_NONE)\n",
    "            df = pd.read_csv(filepath, sep=\"\\t\")\n",
    "\n",
    "            # next(reader, None)  # skip the headers\n",
    "\n",
    "            for id_, row in df.iterrows():\n",
    "                if self.config.name != \"all\":\n",
    "                    # in case there are more than 1 tab character in the text, \n",
    "                    # they'll be split by `csv.reader`\n",
    "                    text = row[\"text\"]\n",
    "                    label = row[\"label\"]\n",
    "                    print(label)\n",
    "\n",
    "                    yield id_, {\"text\": text, \"label\": label}"
   ]
  },
  {
   "cell_type": "code",
   "execution_count": 38,
   "metadata": {
    "scrolled": true
   },
   "outputs": [
    {
     "name": "stdout",
     "output_type": "stream",
     "text": [
      "all train\n"
     ]
    },
    {
     "name": "stderr",
     "output_type": "stream",
     "text": [
      "c:\\users\\tay.yq.xtraman\\appdata\\local\\programs\\python\\python38\\lib\\site-packages\\IPython\\core\\interactiveshell.py:3343: DtypeWarning: Columns (4,5) have mixed types.Specify dtype option on import or set low_memory=False.\n",
      "  exec(code_obj, self.user_global_ns, self.user_ns)\n"
     ]
    },
    {
     "ename": "AssertionError",
     "evalue": "",
     "output_type": "error",
     "traceback": [
      "\u001b[1;31m---------------------------------------------------------------------------\u001b[0m",
      "\u001b[1;31mAssertionError\u001b[0m                            Traceback (most recent call last)",
      "\u001b[1;32m<ipython-input-38-dfc944eccd05>\u001b[0m in \u001b[0;36m<module>\u001b[1;34m\u001b[0m\n\u001b[0;32m     11\u001b[0m         \u001b[0mdf\u001b[0m \u001b[1;33m=\u001b[0m \u001b[0mpd\u001b[0m\u001b[1;33m.\u001b[0m\u001b[0mread_csv\u001b[0m\u001b[1;33m(\u001b[0m\u001b[1;34mf\"../data/{lang}/{split}.csv\"\u001b[0m\u001b[1;33m)\u001b[0m\u001b[1;33m\u001b[0m\u001b[1;33m\u001b[0m\u001b[0m\n\u001b[0;32m     12\u001b[0m \u001b[1;33m\u001b[0m\u001b[0m\n\u001b[1;32m---> 13\u001b[1;33m         \u001b[1;32massert\u001b[0m \u001b[0mset\u001b[0m\u001b[1;33m(\u001b[0m\u001b[0mdf\u001b[0m\u001b[1;33m[\u001b[0m\u001b[1;34m\"label\"\u001b[0m\u001b[1;33m]\u001b[0m\u001b[1;33m.\u001b[0m\u001b[0munique\u001b[0m\u001b[1;33m(\u001b[0m\u001b[1;33m)\u001b[0m\u001b[1;33m)\u001b[0m \u001b[1;33m==\u001b[0m \u001b[1;33m{\u001b[0m\u001b[1;34m\"positive\"\u001b[0m\u001b[1;33m,\u001b[0m \u001b[1;34m\"neutral\"\u001b[0m\u001b[1;33m,\u001b[0m \u001b[1;34m\"negative\"\u001b[0m\u001b[1;33m}\u001b[0m\u001b[1;33m\u001b[0m\u001b[1;33m\u001b[0m\u001b[0m\n\u001b[0m",
      "\u001b[1;31mAssertionError\u001b[0m: "
     ]
    }
   ],
   "source": [
    "LANGUAGES = ['malay', 'hindi', 'japanese', 'german',\n",
    "             'italian', 'english', 'portuguese', 'french',\n",
    "             'spanish', 'chinese', 'indonesian', 'arabic'\n",
    "             ]\n",
    "\n",
    "LANGUAGES = [\"all\"]\n",
    "\n",
    "for lang in LANGUAGES:\n",
    "    for split in [\"train\", \"valid\", \"test\"]:\n",
    "        print(lang, split)\n",
    "        df = pd.read_csv(f\"../data/{lang}/{split}.csv\")\n",
    "        \n",
    "        assert set(df[\"label\"].unique()) == {\"positive\", \"neutral\", \"negative\"}"
   ]
  },
  {
   "cell_type": "code",
   "execution_count": 65,
   "metadata": {},
   "outputs": [
    {
     "name": "stdout",
     "output_type": "stream",
     "text": [
      "malay train\n",
      "hindi train\n",
      "japanese train\n",
      "german train\n",
      "italian train\n",
      "english train\n",
      "portuguese train\n",
      "french train\n",
      "spanish train\n",
      "chinese train\n",
      "indonesian train\n",
      "arabic train\n"
     ]
    }
   ],
   "source": [
    "LANGUAGES = ['malay', 'hindi', 'japanese', 'german',\n",
    "             'italian', 'english', 'portuguese', 'french',\n",
    "             'spanish', 'chinese', 'indonesian', 'arabic'\n",
    "             ]\n",
    "\n",
    "for split in [\"train\", \"valid\", \"test\"]:\n",
    "    df_list = []\n",
    "    \n",
    "    for lang in LANGUAGES:\n",
    "        print(lang, split)\n",
    "        filepath = f\"../data/{lang}/{split}.csv\"\n",
    "        df = pd.read_csv(filepath)\n",
    "        df[\"language\"] = lang\n",
    "        df_list.append(df)\n",
    "        \n",
    "        assert set(df.columns) == {\"text\", \"label\", \"language\"}\n",
    "        assert set(df[\"label\"].unique()) == {\"positive\", \"neutral\", \"negative\"}\n",
    "\n",
    "        all_df = pd.concat(df_list)\n",
    "\n",
    "#         all_df.to_csv(f\"../data/all/{split}.csv\", index=False)\n",
    "    break"
   ]
  },
  {
   "cell_type": "code",
   "execution_count": 58,
   "metadata": {
    "scrolled": true
   },
   "outputs": [
    {
     "data": {
      "text/plain": [
       "Index(['text', 'label', 'language'], dtype='object')"
      ]
     },
     "execution_count": 58,
     "metadata": {},
     "output_type": "execute_result"
    }
   ],
   "source": [
    "df.columns"
   ]
  },
  {
   "cell_type": "code",
   "execution_count": 63,
   "metadata": {},
   "outputs": [
    {
     "data": {
      "text/html": [
       "<div>\n",
       "<style scoped>\n",
       "    .dataframe tbody tr th:only-of-type {\n",
       "        vertical-align: middle;\n",
       "    }\n",
       "\n",
       "    .dataframe tbody tr th {\n",
       "        vertical-align: top;\n",
       "    }\n",
       "\n",
       "    .dataframe thead th {\n",
       "        text-align: right;\n",
       "    }\n",
       "</style>\n",
       "<table border=\"1\" class=\"dataframe\">\n",
       "  <thead>\n",
       "    <tr style=\"text-align: right;\">\n",
       "      <th></th>\n",
       "      <th>Unnamed: 0</th>\n",
       "      <th>text</th>\n",
       "      <th>label</th>\n",
       "      <th>language</th>\n",
       "    </tr>\n",
       "  </thead>\n",
       "  <tbody>\n",
       "    <tr>\n",
       "      <th>0</th>\n",
       "      <td>0</td>\n",
       "      <td>warung ini dimiliki oleh pengusaha pabrik tahu...</td>\n",
       "      <td>positive</td>\n",
       "      <td>indonesian</td>\n",
       "    </tr>\n",
       "    <tr>\n",
       "      <th>1</th>\n",
       "      <td>1</td>\n",
       "      <td>mohon ulama lurus dan k212 mmbri hujjah partai...</td>\n",
       "      <td>neutral</td>\n",
       "      <td>indonesian</td>\n",
       "    </tr>\n",
       "    <tr>\n",
       "      <th>2</th>\n",
       "      <td>2</td>\n",
       "      <td>lokasi strategis di jalan sumatera bandung . t...</td>\n",
       "      <td>positive</td>\n",
       "      <td>indonesian</td>\n",
       "    </tr>\n",
       "    <tr>\n",
       "      <th>3</th>\n",
       "      <td>3</td>\n",
       "      <td>betapa bahagia nya diri ini saat unboxing pake...</td>\n",
       "      <td>positive</td>\n",
       "      <td>indonesian</td>\n",
       "    </tr>\n",
       "    <tr>\n",
       "      <th>4</th>\n",
       "      <td>4</td>\n",
       "      <td>duh . jadi mahasiswa jangan sombong dong . kas...</td>\n",
       "      <td>negative</td>\n",
       "      <td>indonesian</td>\n",
       "    </tr>\n",
       "    <tr>\n",
       "      <th>...</th>\n",
       "      <td>...</td>\n",
       "      <td>...</td>\n",
       "      <td>...</td>\n",
       "      <td>...</td>\n",
       "    </tr>\n",
       "    <tr>\n",
       "      <th>10995</th>\n",
       "      <td>10995</td>\n",
       "      <td>tidak kecewa</td>\n",
       "      <td>positive</td>\n",
       "      <td>indonesian</td>\n",
       "    </tr>\n",
       "    <tr>\n",
       "      <th>10996</th>\n",
       "      <td>10996</td>\n",
       "      <td>enak rasa masakan nya apalagi kepiting yang me...</td>\n",
       "      <td>positive</td>\n",
       "      <td>indonesian</td>\n",
       "    </tr>\n",
       "    <tr>\n",
       "      <th>10997</th>\n",
       "      <td>10997</td>\n",
       "      <td>hormati partai-partai yang telah berkoalisi</td>\n",
       "      <td>neutral</td>\n",
       "      <td>indonesian</td>\n",
       "    </tr>\n",
       "    <tr>\n",
       "      <th>10998</th>\n",
       "      <td>10998</td>\n",
       "      <td>pagi pagi di tol pasteur sudah macet parah , b...</td>\n",
       "      <td>negative</td>\n",
       "      <td>indonesian</td>\n",
       "    </tr>\n",
       "    <tr>\n",
       "      <th>10999</th>\n",
       "      <td>10999</td>\n",
       "      <td>meskipun sering belanja ke yogya di riau junct...</td>\n",
       "      <td>positive</td>\n",
       "      <td>indonesian</td>\n",
       "    </tr>\n",
       "  </tbody>\n",
       "</table>\n",
       "<p>11000 rows × 4 columns</p>\n",
       "</div>"
      ],
      "text/plain": [
       "       Unnamed: 0                                               text  \\\n",
       "0               0  warung ini dimiliki oleh pengusaha pabrik tahu...   \n",
       "1               1  mohon ulama lurus dan k212 mmbri hujjah partai...   \n",
       "2               2  lokasi strategis di jalan sumatera bandung . t...   \n",
       "3               3  betapa bahagia nya diri ini saat unboxing pake...   \n",
       "4               4  duh . jadi mahasiswa jangan sombong dong . kas...   \n",
       "...           ...                                                ...   \n",
       "10995       10995                                       tidak kecewa   \n",
       "10996       10996  enak rasa masakan nya apalagi kepiting yang me...   \n",
       "10997       10997        hormati partai-partai yang telah berkoalisi   \n",
       "10998       10998  pagi pagi di tol pasteur sudah macet parah , b...   \n",
       "10999       10999  meskipun sering belanja ke yogya di riau junct...   \n",
       "\n",
       "          label    language  \n",
       "0      positive  indonesian  \n",
       "1       neutral  indonesian  \n",
       "2      positive  indonesian  \n",
       "3      positive  indonesian  \n",
       "4      negative  indonesian  \n",
       "...         ...         ...  \n",
       "10995  positive  indonesian  \n",
       "10996  positive  indonesian  \n",
       "10997   neutral  indonesian  \n",
       "10998  negative  indonesian  \n",
       "10999  positive  indonesian  \n",
       "\n",
       "[11000 rows x 4 columns]"
      ]
     },
     "execution_count": 63,
     "metadata": {},
     "output_type": "execute_result"
    }
   ],
   "source": [
    "df_list[10]"
   ]
  }
 ],
 "metadata": {
  "kernelspec": {
   "display_name": "Python 3",
   "language": "python",
   "name": "python3"
  },
  "language_info": {
   "codemirror_mode": {
    "name": "ipython",
    "version": 3
   },
   "file_extension": ".py",
   "mimetype": "text/x-python",
   "name": "python",
   "nbconvert_exporter": "python",
   "pygments_lexer": "ipython3",
   "version": "3.8.5"
  }
 },
 "nbformat": 4,
 "nbformat_minor": 4
}
